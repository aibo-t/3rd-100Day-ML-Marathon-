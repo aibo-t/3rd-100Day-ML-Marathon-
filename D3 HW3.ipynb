{
 "cells": [
  {
   "cell_type": "code",
   "execution_count": 1,
   "metadata": {},
   "outputs": [],
   "source": [
    "#Title: Lily 女装的数字化转型实录：从全渠道到柔性供应链体系\t"
   ]
  },
  {
   "cell_type": "code",
   "execution_count": 3,
   "metadata": {},
   "outputs": [],
   "source": [
    "#1. Goal: Lily女装的数字化转型“三级跳” 做全渠道，客户在线上下单后我们会先看当地代理商手里有没有货，有的话就直接把订单转给他。另外我们也会根据线上消费者的特点，推出一些线上专供产品”。       第二步是打造商品计划体系，构建C2M的柔性供应链体系。  第三步是数据化转型，用数据驱动运营，实现流程的自动化和决策的智能化。"
   ]
  },
  {
   "cell_type": "code",
   "execution_count": 4,
   "metadata": {},
   "outputs": [],
   "source": [
    "#2. Key concept:  1、数据驱动运营必须从业务中来到业务中去，形成从数据采集、数据资产化、数据洞察到数据赋能的完整闭环；2、数字化应该仅仅围绕人、货、场三个要素的匹配来展开。\t\t\t\t\t\t\t\t\t\t\t\t\t\t\t\t\t\t\t\t\t   Transformation:  Lily女装过去的营销模式比较粗放，无非是根据特定条件从CRM系统中筛选会员群发短信和邮件，不但对消费者起不到帮助还会产生骚扰。现在通过打通数据和建立算法模型，Lily已经能够分析消费者的具体行为，预测她接下来的购买行为，有针对性地推送优惠券，ROI提升了十几倍。\t\t\t\t\t\t\t\t\t\t\t\t\t\t                                                                        Method: 其次是建立商品计划体系，具体可以几个环节：季前通过数据和算法决策商品的品类结构，计算每家门店的首铺量和留仓量以及给供应商的首批订单量；季中根据销售数据和第三方数据做销售预测和自动补货。\t\t\t\t\t\t\t\t\t\t\t\t\t\t\t\t\t\t  Method:  此外，Lily女装也在积极探索“出清计划”。服装行业的定价策略向来比较简单粗暴，一般新品上市第一个月都是正价销售，季中打八折，季末打五折，无论畅销品还是滞销品。这样导致的结果就是畅销品经常卖断货，滞销品去积累了大量的库存。Lily希望能通过算法提前计算出滞销品应该从什么时候开始打折，才能最大限度降低库存积压。\t"
   ]
  },
  {
   "cell_type": "code",
   "execution_count": 5,
   "metadata": {},
   "outputs": [],
   "source": [
    "#3. Source:  Lily在门店端也做了许多尝试，设置了大量的数据采集节点。刘峰介绍，服装行业的门店有一个盈利公式——客流*进店率*试衣率*转化率*客单价。门店通过技术手段采集所有这些指标后，店长就能一目了然，我业绩不好到底是因为哪个环节出了问题，从而有针对性地进行改善和优化。\t\t\t\t\t\t\t\t\t其次是建立商品计划体系，具体可以几个环节：季前通过数据和算法决策商品的品类结构，计算每家门店的首铺量和留仓量以及给供应商的首批订单量；季中根据销售数据和第三方数据做销售预测和自动补货。"
   ]
  },
  {
   "cell_type": "code",
   "execution_count": null,
   "metadata": {},
   "outputs": [],
   "source": []
  }
 ],
 "metadata": {
  "kernelspec": {
   "display_name": "Python 3",
   "language": "python",
   "name": "python3"
  },
  "language_info": {
   "codemirror_mode": {
    "name": "ipython",
    "version": 3
   },
   "file_extension": ".py",
   "mimetype": "text/x-python",
   "name": "python",
   "nbconvert_exporter": "python",
   "pygments_lexer": "ipython3",
   "version": "3.7.3"
  }
 },
 "nbformat": 4,
 "nbformat_minor": 2
}
